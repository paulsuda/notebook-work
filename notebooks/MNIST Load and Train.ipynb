{
 "cells": [
  {
   "cell_type": "markdown",
   "metadata": {},
   "source": [
    "## Settings..."
   ]
  },
  {
   "cell_type": "code",
   "execution_count": 1,
   "metadata": {
    "collapsed": false
   },
   "outputs": [
    {
     "name": "stderr",
     "output_type": "stream",
     "text": [
      "/usr/local/lib/python2.7/dist-packages/matplotlib/font_manager.py:273: UserWarning: Matplotlib is building the font cache using fc-list. This may take a moment.\n",
      "  warnings.warn('Matplotlib is building the font cache using fc-list. This may take a moment.')\n"
     ]
    }
   ],
   "source": [
    "from subprocess import call\n",
    "from urllib import urlretrieve\n",
    "import os\n",
    "import gzip\n",
    "import binascii\n",
    "import ipywidgets\n",
    "import struct\n",
    "import numpy\n",
    "import sys\n",
    "import tensorflow\n",
    "from matplotlib import pyplot\n",
    "from ipywidgets import widgets\n",
    "\n",
    "\n",
    "%matplotlib inline\n",
    "\n",
    "save_dir = '/notebooks/mnist'\n",
    "\n",
    "download_base_url = 'http://yann.lecun.com/exdb/mnist/'\n",
    "\n",
    "filenames = [\n",
    "    'train-images-idx3-ubyte.gz', #:  training set images (9912422 bytes) \n",
    "    'train-labels-idx1-ubyte.gz', #:  training set labels (28881 bytes) \n",
    "    't10k-images-idx3-ubyte.gz',  #:   test set images (1648877 bytes) \n",
    "    't10k-labels-idx1-ubyte.gz'   #:   test set labels (4542 bytes)\n",
    "]\n"
   ]
  },
  {
   "cell_type": "markdown",
   "metadata": {},
   "source": [
    "## Grab the MNist files..."
   ]
  },
  {
   "cell_type": "code",
   "execution_count": 2,
   "metadata": {
    "collapsed": false
   },
   "outputs": [
    {
     "name": "stdout",
     "output_type": "stream",
     "text": [
      "Path /notebooks/mnist/train-images-idx3-ubyte.gz\n",
      "Nothing to do.\n",
      "Path /notebooks/mnist/train-labels-idx1-ubyte.gz\n",
      "Nothing to do.\n",
      "Path /notebooks/mnist/t10k-images-idx3-ubyte.gz\n",
      "Nothing to do.\n",
      "Path /notebooks/mnist/t10k-labels-idx1-ubyte.gz\n",
      "Nothing to do.\n"
     ]
    }
   ],
   "source": [
    "if not os.path.exists(save_dir):\n",
    "    os.makedirs(save_dir)\n",
    "for f in filenames:\n",
    "    fullpath = os.path.join(save_dir, f)\n",
    "    downloadurl = download_base_url + f\n",
    "    print \"Path\", fullpath\n",
    "    if os.path.exists(fullpath):\n",
    "        print \"Nothing to do.\"\n",
    "    else:\n",
    "        print \"Downloading\", downloadurl, \"...\"\n",
    "        urlretrieve(downloadurl, fullpath)\n",
    "        print \"... done\""
   ]
  },
  {
   "cell_type": "markdown",
   "metadata": {},
   "source": [
    "## Load data file and parse"
   ]
  },
  {
   "cell_type": "code",
   "execution_count": 3,
   "metadata": {
    "collapsed": false
   },
   "outputs": [
    {
     "name": "stdout",
     "output_type": "stream",
     "text": [
      "Unpacking image train-images-idx3-ubyte.gz ...\n",
      "Reading 60000 images:\n",
      "............................................................done\n",
      "Unpacking labels train-labels-idx1-ubyte.gz ...\n",
      "Reading 60000 labels:\n",
      "... done\n",
      "Unpacking image t10k-images-idx3-ubyte.gz ...\n",
      "Reading 10000 images:\n",
      "..........done\n",
      "Unpacking labels t10k-labels-idx1-ubyte.gz ...\n",
      "Reading 10000 labels:\n",
      "... done\n"
     ]
    }
   ],
   "source": [
    "%matplotlib inline\n",
    "\n",
    "def progress_dot():\n",
    "    sys.stdout.write('.')\n",
    "    sys.stdout.flush()\n",
    "\n",
    "def unpack_int(data_file):\n",
    "    data = data_file.read(4)\n",
    "    data = struct.unpack('>i', data)[0]\n",
    "    return data\n",
    "\n",
    "def unpack_image(data_file):\n",
    "    img = data_file.read(28 * 28)\n",
    "    img = struct.unpack('B' * (28 * 28), img)\n",
    "    img = numpy.array(img)\n",
    "    img = (img - 128) / 255.0\n",
    "    return img\n",
    "\n",
    "def unpack_image_data(filename):\n",
    "    print \"Unpacking image\", filename, \"...\"\n",
    "    with gzip.open(os.path.join(save_dir, filename)) as data_file:\n",
    "        fields = {\n",
    "            'magic_number': unpack_int(data_file),\n",
    "            'count': unpack_int(data_file),\n",
    "            'rows': unpack_int(data_file),\n",
    "            'columns': unpack_int(data_file),\n",
    "        }\n",
    "        image_count = fields['count']\n",
    "        image_list = []\n",
    "        if fields['magic_number'] != 2051:\n",
    "            raise RuntimeError(\"Expected 2051 in first two bytes of file.\")\n",
    "        print \"Reading\", image_count, \"images:\"\n",
    "        while(image_count > len(image_list)):\n",
    "            if(len(image_list) % 1000 == 0):\n",
    "                progress_dot()\n",
    "            img = unpack_image(data_file)\n",
    "            image_list.append(img)\n",
    "        print \"done\"\n",
    "        return fields, image_list\n",
    "\n",
    "def unpack_labels(filename):\n",
    "    print \"Unpacking labels\", filename, \"...\"\n",
    "    with gzip.open(os.path.join(save_dir, filename)) as data_file:\n",
    "        fields = {\n",
    "            'magic_number': unpack_int(data_file),\n",
    "            'count': unpack_int(data_file)\n",
    "        }\n",
    "        if fields['magic_number'] != 2049:\n",
    "            raise RuntimeError(\"Expected 2049 in first two bytes of file.\")\n",
    "        print \"Reading\", fields['count'], 'labels:'\n",
    "        label_data = data_file.read(fields['count'])\n",
    "        label_list = struct.unpack('B' * fields['count'], label_data)\n",
    "    print \"... done\"\n",
    "    return fields, label_list\n",
    "\n",
    "image_fields, image_list = unpack_image_data('train-images-idx3-ubyte.gz')\n",
    "label_fields, label_list = unpack_labels('train-labels-idx1-ubyte.gz')\n",
    "training = {\n",
    "    'image_fields': image_fields,\n",
    "    'image': image_list,\n",
    "    'label_fields': label_fields,\n",
    "    'label': label_list\n",
    "}\n",
    "\n",
    "image_fields, image_list = unpack_image_data('t10k-images-idx3-ubyte.gz')\n",
    "label_fields, label_list = unpack_labels('t10k-labels-idx1-ubyte.gz')\n",
    "testing = {\n",
    "    'image_fields': image_fields,\n",
    "    'image': image_list,\n",
    "    'label_fields': label_fields,\n",
    "    'label': label_list\n",
    "}\n"
   ]
  },
  {
   "cell_type": "markdown",
   "metadata": {},
   "source": [
    "## Show the images:"
   ]
  },
  {
   "cell_type": "code",
   "execution_count": 4,
   "metadata": {
    "collapsed": false
   },
   "outputs": [],
   "source": [
    "\n",
    "def pyplot_images(image_list):\n",
    "    plot_count = len(image_list)\n",
    "    _, plots = pyplot.subplots(1, plot_count)\n",
    "    for i in range(plot_count):\n",
    "        img = image_list[i]\n",
    "        plot = plots[i]\n",
    "        plot.imshow(img.reshape(28, 28), cmap=pyplot.cm.Greys)\n",
    "            "
   ]
  },
  {
   "cell_type": "code",
   "execution_count": 5,
   "metadata": {
    "collapsed": false
   },
   "outputs": [
    {
     "name": "stdout",
     "output_type": "stream",
     "text": [
      "##Training set 60000 images:\n"
     ]
    },
    {
     "data": {
      "image/png": "[encoded data removed]",
      "text/plain": [
       "<matplotlib.figure.Figure at 0x7efdd183f290>"
      ]
     },
     "metadata": {},
     "output_type": "display_data"
    }
   ],
   "source": [
    "print \"##Training set\", training['image_fields']['count'], \"images:\"\n",
    "pyplot_images([training['image'][0], training['image'][1], training['image'][2]])"
   ]
  },
  {
   "cell_type": "code",
   "execution_count": 6,
   "metadata": {
    "collapsed": false
   },
   "outputs": [
    {
     "name": "stdout",
     "output_type": "stream",
     "text": [
      "##Testing set 10000 images:\n"
     ]
    },
    {
     "data": {
      "image/png": "[encoded data removed]",
      "text/plain": [
       "<matplotlib.figure.Figure at 0x7efdd0d10e90>"
      ]
     },
     "metadata": {},
     "output_type": "display_data"
    }
   ],
   "source": [
    "print \"##Testing set\", testing['image_fields']['count'], \"images:\"\n",
    "pyplot_images([testing['image'][0], testing['image'][1], testing['image'][2]])"
   ]
  },
  {
   "cell_type": "markdown",
   "metadata": {},
   "source": [
    "## The Labels:  "
   ]
  },
  {
   "cell_type": "code",
   "execution_count": 7,
   "metadata": {
    "collapsed": false,
    "scrolled": false
   },
   "outputs": [],
   "source": [
    "def pyplot_hist(hist_data_list):\n",
    "  plot_count = len(hist_data_list)\n",
    "  _, plots = pyplot.subplots(1, plot_count)\n",
    "  for i in range(plot_count):\n",
    "        hist_data = hist_data_list[i]\n",
    "        plot = plots[i]\n",
    "        plot.hist(hist_data, bins=10, range=[0,10])"
   ]
  },
  {
   "cell_type": "code",
   "execution_count": 8,
   "metadata": {
    "collapsed": false
   },
   "outputs": [
    {
     "name": "stdout",
     "output_type": "stream",
     "text": [
      "Training Labels: (5, 0, 4) ...\n",
      "Testing Labels: (7, 2, 1) ...\n"
     ]
    },
    {
     "data": {
      "image/png": "[encoded data removed]",
      "text/plain": [
       "<matplotlib.figure.Figure at 0x7efdd0ca3150>"
      ]
     },
     "metadata": {},
     "output_type": "display_data"
    }
   ],
   "source": [
    "print \"Training Labels:\", training['label'][0:3], '...'\n",
    "print \"Testing Labels:\", testing['label'][0:3], '...'\n",
    "pyplot_hist([training['label'], testing['label']])"
   ]
  },
  {
   "cell_type": "markdown",
   "metadata": {},
   "source": [
    "## Training..."
   ]
  },
  {
   "cell_type": "code",
   "execution_count": 9,
   "metadata": {
    "collapsed": false
   },
   "outputs": [],
   "source": [
    "def next_train_batch(i, n):\n",
    "    batch_labels = training['label'][i : i + n]\n",
    "    label_vec_list = []\n",
    "    for label in batch_labels:\n",
    "        label_vec = [0.0] * 10\n",
    "        label_vec[label] = 1.0\n",
    "        label_vec_list.append(label_vec)\n",
    "    return training['image'][i : i + n], label_vec_list\n",
    "\n",
    "# next_train_batch(0, 10)"
   ]
  },
  {
   "cell_type": "code",
   "execution_count": 10,
   "metadata": {
    "collapsed": false
   },
   "outputs": [
    {
     "name": "stdout",
     "output_type": "stream",
     "text": [
      "Training\n",
      "........................................................................................................................................................................................................................................................................................................................................................................................................................................................................................................................................................................................................................"
     ]
    }
   ],
   "source": [
    "import tensorflow\n",
    "\n",
    "input_count = 28 * 28\n",
    "output_count = 10\n",
    "batch_size = 100\n",
    "learning_rate = 0.5\n",
    "\n",
    "x = tensorflow.placeholder(tensorflow.float32, [None, input_count])\n",
    "w = tensorflow.Variable(tensorflow.zeros([input_count, output_count]))\n",
    "b = tensorflow.Variable(tensorflow.zeros([output_count]))\n",
    "y = tensorflow.nn.softmax(tensorflow.matmul(x, w) + b)\n",
    "y_ = tensorflow.placeholder(tensorflow.float32, [None, output_count])\n",
    "cross_entropy = tensorflow.reduce_mean(-tensorflow.reduce_sum(y_ * tensorflow.log(y), reduction_indices=[1]))\n",
    "train_step = tensorflow.train.GradientDescentOptimizer(learning_rate).minimize(cross_entropy)\n",
    "init = tensorflow.initialize_all_variables();\n",
    "sess = tensorflow.Session()\n",
    "sess.run(init)\n",
    "\n",
    "print \"Training\"\n",
    "for i in range(0, len(training['label']), batch_size):\n",
    "    batch_xs, batch_ys = next_train_batch(i, batch_size)\n",
    "    progress_dot()\n",
    "    sess.run(train_step, feed_dict={x: batch_xs, y_: batch_ys})\n",
    "    \n"
   ]
  },
  {
   "cell_type": "code",
   "execution_count": 11,
   "metadata": {
    "collapsed": false
   },
   "outputs": [
    {
     "name": "stdout",
     "output_type": "stream",
     "text": [
      "Labeled: 9\n"
     ]
    },
    {
     "data": {
      "image/png": "[encoded data removed]",
      "text/plain": [
       "<matplotlib.figure.Figure at 0x7efdd0ca3ed0>"
      ]
     },
     "metadata": {},
     "output_type": "display_data"
    }
   ],
   "source": [
    "i = 12\n",
    "test = numpy.array([testing['image'][i]])\n",
    "output = sess.run(y, feed_dict={x: test})\n",
    "_, plots = pyplot.subplots(1, 2)\n",
    "plots[0].bar(range(0, 10), output[0], width=1.0)\n",
    "plots[1].imshow(test.reshape(28, 28), cmap=pyplot.cm.Greys)\n",
    "print \"Labeled:\", testing['label'][i]"
   ]
  },
  {
   "cell_type": "markdown",
   "metadata": {},
   "source": [
    "## Input"
   ]
  },
  {
   "cell_type": "code",
   "execution_count": 12,
   "metadata": {
    "collapsed": true
   },
   "outputs": [],
   "source": [
    "def score_js_data(imgOutput):\n",
    "    img = (imgOutput - 128) / -255.0\n",
    "    output = sess.run(y, feed_dict={x: [img]})\n",
    "    _, plots = pyplot.subplots(1, 2)\n",
    "    plots[0].bar(range(0, 10), output[0], width=1.0)\n",
    "    plots[1].imshow(img.reshape(28, 28), cmap=pyplot.cm.Greys)"
   ]
  },
  {
   "cell_type": "code",
   "execution_count": 15,
   "metadata": {
    "collapsed": false,
    "scrolled": true
   },
   "outputs": [
    {
     "data": {
      "application/javascript": [
       "\n",
       "var canvas, ctx, div, clearButton, scoreButton;\n",
       "var scaleMultiplier = 4;\n",
       "var width = 28;\n",
       "var height = 28;\n",
       "\n",
       "function clearCanvas(){\n",
       "    ctx.fillStyle = '#FFFFEE';\n",
       "    ctx.fillRect(0, 0, width, height);\n",
       "}\n",
       "\n",
       "function putPixel(x, y){\n",
       "    ctx.fillStyle = '#111111';\n",
       "    ctx.fillRect(x, y, 2, 2);\n",
       "}\n",
       "\n",
       "function handleDraw(event){\n",
       "    if(event.which == 1){\n",
       "        putPixel(event.offsetX, event.offsetY);\n",
       "    }\n",
       "}\n",
       "\n",
       "function imageRawData(){\n",
       "  return ctx.getImageData(0, 0, width, height);\n",
       "}\n",
       "\n",
       "function imageData(){\n",
       "    var imgData = imageRawData();\n",
       "    console.log('data', imgData);\n",
       "    var outputLength = imgData.width * imgData.height;\n",
       "    var output = new Uint8ClampedArray(outputLength);\n",
       "    var i, j, data, greyscaleValue;\n",
       "    for(i = 0; i < outputLength; i++){\n",
       "        j = i * 4;\n",
       "        data = imgData.data;\n",
       "        greyscaleValue = (data[j + 0] + data[j + 1] + data[j + 2]) / 3\n",
       "        output[i] = parseInt(greyscaleValue);\n",
       "    }\n",
       "    return output;\n",
       "}\n",
       "\n",
       "canvas = $('<canvas width=\"' + width + '\" height=\"' + height +\n",
       "           '\" style=\"transform: scale(' + scaleMultiplier + ',' + scaleMultiplier + '); ' +\n",
       "           'position: relative; left: ' + (width + 20) + 'px; top: ' + (height + 20) + 'px;\">')[0];\n",
       "clearButton = $('<button style=\"position: relative; float: right;\">Clear</button>');\n",
       "scoreButton = $('<button style=\"position: relative; float: right;\">Score</button>');\n",
       "div = $('<div style=\"height: 160px; width: 400px;\">')\n",
       "div.append(canvas);\n",
       "div.append(clearButton);\n",
       "div.append(scoreButton);\n",
       "$(element).append(div);\n",
       "ctx = canvas.getContext(\"2d\");\n",
       "clearCanvas();\n",
       "\n",
       "function notebookExec(command){\n",
       "    console.log(\"Executing Command: \" + command);\n",
       "    var handle_output = function(val){\n",
       "        console.log('handle_output', val);\n",
       "    }\n",
       "    var callbacks = {'output' : handle_output};\n",
       "    var kernel = IPython.notebook.kernel;\n",
       "    return kernel.execute(command, callbacks, {silent:false});\n",
       "}\n",
       "\n",
       "function scoreIt(){\n",
       "    var var_name = 'imgOutput';\n",
       "    var var_value = imageData();\n",
       "    var set_command = var_name + \" = numpy.array([\" + var_value.join(',') + \"])\";\n",
       "    var ret = notebookExec(set_command);\n",
       "    console.log('ret', ret);\n",
       "    ret = notebookExec('score_js_data(imgOutput)')\n",
       "    console.log('ret', ret);\n",
       "}\n",
       "\n",
       "var drawTimeout = null;\n",
       "\n",
       "function setDrawTimeout(){\n",
       "    var delay = 800;\n",
       "    var fn = function(){\n",
       "        console.log('fn');\n",
       "        scoreIt();\n",
       "        clearCanvas();\n",
       "        drawTimeout = null;\n",
       "    }\n",
       "    console.log('setting to');\n",
       "    if(drawTimeout){\n",
       "//         window.clearTimeout(drawTimeout);\n",
       "    }\n",
       "//     drawTimeout = window.setTimeout(fn, delay);\n",
       "}\n",
       "\n",
       "function handleDrawAndScore(e){\n",
       "    handleDraw(e);\n",
       "    setDrawTimeout();\n",
       "}\n",
       "\n",
       "$(canvas).click(handleDrawAndScore).mousemove(handleDrawAndScore);\n",
       "$(clearButton).click(clearCanvas);\n",
       "$(scoreButton).click(scoreIt);"
      ],
      "text/plain": [
       "<IPython.core.display.Javascript object>"
      ]
     },
     "metadata": {},
     "output_type": "display_data"
    }
   ],
   "source": [
    "%%javascript\n",
    "\n",
    "var canvas, ctx, div, clearButton, scoreButton;\n",
    "var scaleMultiplier = 4;\n",
    "var width = 28;\n",
    "var height = 28;\n",
    "\n",
    "function clearCanvas(){\n",
    "    ctx.fillStyle = '#FFFFEE';\n",
    "    ctx.fillRect(0, 0, width, height);\n",
    "}\n",
    "\n",
    "function putPixel(x, y){\n",
    "    ctx.fillStyle = '#111111';\n",
    "    ctx.fillRect(x, y, 2, 2);\n",
    "}\n",
    "\n",
    "function handleDraw(event){\n",
    "    if(event.which == 1){\n",
    "        putPixel(event.offsetX, event.offsetY);\n",
    "    }\n",
    "}\n",
    "\n",
    "function imageRawData(){\n",
    "  return ctx.getImageData(0, 0, width, height);\n",
    "}\n",
    "\n",
    "function imageData(){\n",
    "    var imgData = imageRawData();\n",
    "    console.log('data', imgData);\n",
    "    var outputLength = imgData.width * imgData.height;\n",
    "    var output = new Uint8ClampedArray(outputLength);\n",
    "    var i, j, data, greyscaleValue;\n",
    "    for(i = 0; i < outputLength; i++){\n",
    "        j = i * 4;\n",
    "        data = imgData.data;\n",
    "        greyscaleValue = (data[j + 0] + data[j + 1] + data[j + 2]) / 3\n",
    "        output[i] = parseInt(greyscaleValue);\n",
    "    }\n",
    "    return output;\n",
    "}\n",
    "\n",
    "canvas = $('<canvas width=\"' + width + '\" height=\"' + height +\n",
    "           '\" style=\"transform: scale(' + scaleMultiplier + ',' + scaleMultiplier + '); ' +\n",
    "           'position: relative; left: ' + (width + 20) + 'px; top: ' + (height + 20) + 'px;\">')[0];\n",
    "clearButton = $('<button style=\"position: relative; float: right;\">Clear</button>');\n",
    "scoreButton = $('<button style=\"position: relative; float: right;\">Score</button>');\n",
    "div = $('<div style=\"height: 160px; width: 400px;\">')\n",
    "div.append(canvas);\n",
    "div.append(clearButton);\n",
    "div.append(scoreButton);\n",
    "$(element).append(div);\n",
    "ctx = canvas.getContext(\"2d\");\n",
    "clearCanvas();\n",
    "\n",
    "function notebookExec(command){\n",
    "    console.log(\"Executing Command: \" + command);\n",
    "    var handle_output = function(val){\n",
    "        console.log('handle_output', val);\n",
    "    }\n",
    "    var callbacks = {'output' : handle_output};\n",
    "    var kernel = IPython.notebook.kernel;\n",
    "    return kernel.execute(command, callbacks, {silent:false});\n",
    "}\n",
    "\n",
    "function scoreIt(){\n",
    "    var var_name = 'imgOutput';\n",
    "    var var_value = imageData();\n",
    "    var set_command = var_name + \" = numpy.array([\" + var_value.join(',') + \"])\";\n",
    "    var ret = notebookExec(set_command);\n",
    "    console.log('ret', ret);\n",
    "    ret = notebookExec('score_js_data(imgOutput)')\n",
    "    console.log('ret', ret);\n",
    "}\n",
    "\n",
    "var drawTimeout = null;\n",
    "\n",
    "function setDrawTimeout(){\n",
    "    var delay = 800;\n",
    "    var fn = function(){\n",
    "        console.log('fn');\n",
    "        scoreIt();\n",
    "        clearCanvas();\n",
    "        drawTimeout = null;\n",
    "    }\n",
    "    console.log('setting to');\n",
    "    if(drawTimeout){\n",
    "//         window.clearTimeout(drawTimeout);\n",
    "    }\n",
    "//     drawTimeout = window.setTimeout(fn, delay);\n",
    "}\n",
    "\n",
    "function handleDrawAndScore(e){\n",
    "    handleDraw(e);\n",
    "    setDrawTimeout();\n",
    "}\n",
    "\n",
    "$(canvas).click(handleDrawAndScore).mousemove(handleDrawAndScore);\n",
    "$(clearButton).click(clearCanvas);\n",
    "$(scoreButton).click(scoreIt);\n"
   ]
  },
  {
   "cell_type": "code",
   "execution_count": 22,
   "metadata": {
    "collapsed": false
   },
   "outputs": [
    {
     "data": {
      "text/plain": [
       "<matplotlib.image.AxesImage at 0x7efdb7517150>"
      ]
     },
     "execution_count": 22,
     "metadata": {},
     "output_type": "execute_result"
    },
    {
     "data": {
      "image/png": "[encoded data removed]",
      "text/plain": [
       "<matplotlib.figure.Figure at 0x7efdb7811250>"
      ]
     },
     "metadata": {},
     "output_type": "display_data"
    }
   ],
   "source": [
    "img = (imgOutput - 128) / -255.0\n",
    "output = sess.run(y, feed_dict={x: [img]})\n",
    "\n",
    "_, plots = pyplot.subplots(1, 2)\n",
    "plots[0].bar(range(0, 10), output[0], width=1.0)\n",
    "plots[1].imshow(img.reshape(28, 28), cmap=pyplot.cm.Greys)\n"
   ]
  },
  {
   "cell_type": "code",
   "execution_count": null,
   "metadata": {
    "collapsed": true
   },
   "outputs": [],
   "source": []
  }
 ],
 "metadata": {
  "kernelspec": {
   "display_name": "Python 2",
   "language": "python",
   "name": "python2"
  },
  "language_info": {
   "codemirror_mode": {
    "name": "ipython",
    "version": 2
   },
   "file_extension": ".py",
   "mimetype": "text/x-python",
   "name": "python",
   "nbconvert_exporter": "python",
   "pygments_lexer": "ipython2",
   "version": "2.7.6"
  }
 },
 "nbformat": 4,
 "nbformat_minor": 0
}
