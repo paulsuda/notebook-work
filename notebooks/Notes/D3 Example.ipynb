{
 "cells": [
  {
   "cell_type": "markdown",
   "metadata": {
    "collapsed": true
   },
   "source": [
    "## D3 Example"
   ]
  },
  {
   "cell_type": "code",
   "execution_count": 1,
   "metadata": {},
   "outputs": [
    {
     "data": {
      "application/javascript": [
       "\n",
       "require.config({\n",
       "  paths: {\n",
       "      d3: '/files/node_modules/d3/build/d3',\n",
       "  }\n",
       "});\n",
       "\n",
       "var wrapperId = 'd3wrap';\n",
       "var wrapperElement = $('<div id=\"' + wrapperId + '\"></div>');\n",
       "var dataList = [1, 2, 3];\n",
       "$(element).append(wrapperElement);\n",
       "\n",
       "require(['d3'], function(d3){\n",
       "  d3.select('#' + wrapperId).selectAll('div.d')\n",
       "      .data(dataList).enter()\n",
       "      .append('div.d').text(function(d) { return d; })\n",
       "});"
      ],
      "text/plain": [
       "<IPython.core.display.Javascript object>"
      ]
     },
     "metadata": {},
     "output_type": "display_data"
    }
   ],
   "source": [
    "%%javascript\n",
    "\n",
    "require.config({\n",
    "  paths: {\n",
    "      d3: '/files/node_modules/d3/build/d3',\n",
    "  }\n",
    "});\n",
    "\n",
    "var wrapperId = 'd3wrap';\n",
    "var wrapperElement = $('<div id=\"' + wrapperId + '\"></div>');\n",
    "var dataList = [1, 2, 3];\n",
    "$(element).append(wrapperElement);\n",
    "\n",
    "require(['d3'], function(d3){\n",
    "  d3.select('#' + wrapperId).selectAll('div.d')\n",
    "      .data(dataList).enter()\n",
    "      .append('div.d').text(function(d) { return d; })\n",
    "});"
   ]
  },
  {
   "cell_type": "code",
   "execution_count": null,
   "metadata": {
    "collapsed": true
   },
   "outputs": [],
   "source": []
  }
 ],
 "metadata": {
  "kernelspec": {
   "display_name": "Python 2",
   "language": "python",
   "name": "python2"
  },
  "language_info": {
   "codemirror_mode": {
    "name": "ipython",
    "version": 2
   },
   "file_extension": ".py",
   "mimetype": "text/x-python",
   "name": "python",
   "nbconvert_exporter": "python",
   "pygments_lexer": "ipython2",
   "version": "2.7.12"
  }
 },
 "nbformat": 4,
 "nbformat_minor": 1
}
