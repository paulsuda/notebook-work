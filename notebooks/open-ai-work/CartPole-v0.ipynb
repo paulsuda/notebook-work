{
 "cells": [
  {
   "cell_type": "code",
   "execution_count": 33,
   "metadata": {
    "collapsed": true
   },
   "outputs": [],
   "source": [
    "import gym\n",
    "import numpy"
   ]
  },
  {
   "cell_type": "code",
   "execution_count": 34,
   "metadata": {
    "collapsed": true
   },
   "outputs": [],
   "source": [
    "import matplotlib\n",
    "from matplotlib import pyplot\n",
    "%matplotlib inline"
   ]
  },
  {
   "cell_type": "code",
   "execution_count": 35,
   "metadata": {
    "collapsed": false
   },
   "outputs": [
    {
     "name": "stderr",
     "output_type": "stream",
     "text": [
      "INFO:gym.envs.registration:Making new env: CartPole-v0\n",
      "[2016-10-31 02:21:02,128] Making new env: CartPole-v0\n"
     ]
    }
   ],
   "source": [
    "env = gym.make('CartPole-v0')\n",
    "env.reset()\n",
    "env.render()"
   ]
  },
  {
   "cell_type": "code",
   "execution_count": 71,
   "metadata": {
    "collapsed": false,
    "scrolled": true
   },
   "outputs": [
    {
     "data": {
      "text/plain": [
       "['obs: [ 0.01777148 -0.19100372 -0.02919925  0.32578112] rw: 1.0 info: 0',\n",
       " 'obs: [ 0.01395141 -0.38569803 -0.02268362  0.60911474] rw: 1.0 info: 0',\n",
       " 'obs: [ 0.00623745 -0.58049566 -0.01050133  0.89456759] rw: 1.0 info: 0',\n",
       " 'obs: [-0.00537246 -0.77547364  0.00739002  1.1839311 ] rw: 1.0 info: 0',\n",
       " 'obs: [-0.02088194 -0.97069069  0.03106864  1.47892132] rw: 1.0 info: 0',\n",
       " 'obs: [-0.04029575 -1.16617783  0.06064707  1.78114324] rw: 1.0 info: 0',\n",
       " 'obs: [-0.06361931 -1.36192721  0.09626993  2.0920468 ] rw: 1.0 info: 0',\n",
       " 'obs: [-0.09085785 -1.5578784   0.13811087  2.41287225] rw: 1.0 info: 0',\n",
       " 'obs: [-0.12201542 -1.75390214  0.18636832  2.74458365] rw: 1.0 info: 0']"
      ]
     },
     "execution_count": 71,
     "metadata": {},
     "output_type": "execute_result"
    }
   ],
   "source": [
    "log = []\n",
    "env.reset()\n",
    "for i in range(190):\n",
    "    env.render()\n",
    "    action = 0\n",
    "#     env.action_space.sample()\n",
    "    observation, reward, done, info = env.step(action)\n",
    "    if(done):\n",
    "        break\n",
    "    log.append([observation, reward, action, info])\n",
    "\n",
    "def log_formatter(log_item):\n",
    "    return (\"obs: {} rw: {} info: {}\".format(log_item[0], log_item[1], log_item[2]))\n",
    "\n",
    "map(log_formatter, log)\n"
   ]
  },
  {
   "cell_type": "code",
   "execution_count": 84,
   "metadata": {
    "collapsed": false
   },
   "outputs": [
    {
     "name": "stdout",
     "output_type": "stream",
     "text": [
      "[array([ 0.01777148, -0.19100372, -0.02919925,  0.32578112]), 1.0, 0, {}]\n",
      "[array([ 0.01395141, -0.38569803, -0.02268362,  0.60911474]), 1.0, 0, {}]\n",
      "[array([ 0.00623745, -0.58049566, -0.01050133,  0.89456759]), 1.0, 0, {}]\n",
      "[array([-0.00537246, -0.77547364,  0.00739002,  1.1839311 ]), 1.0, 0, {}]\n",
      "[array([-0.02088194, -0.97069069,  0.03106864,  1.47892132]), 1.0, 0, {}]\n",
      "[array([-0.04029575, -1.16617783,  0.06064707,  1.78114324]), 1.0, 0, {}]\n",
      "[array([-0.06361931, -1.36192721,  0.09626993,  2.0920468 ]), 1.0, 0, {}]\n",
      "[array([-0.09085785, -1.5578784 ,  0.13811087,  2.41287225]), 1.0, 0, {}]\n",
      "[array([-0.12201542, -1.75390214,  0.18636832,  2.74458365]), 1.0, 0, {}]\n"
     ]
    },
    {
     "data": {
      "text/plain": [
       "[<matplotlib.lines.Line2D at 0x7fa4f4626c50>]"
      ]
     },
     "execution_count": 84,
     "metadata": {},
     "output_type": "execute_result"
    },
    {
     "data": {
      "image/png": "[encoded data removed]",
      "text/plain": [
       "<matplotlib.figure.Figure at 0x7fa4f4819510>"
      ]
     },
     "metadata": {},
     "output_type": "display_data"
    }
   ],
   "source": [
    "scale_steps = numpy.arange(0, len(log))\n",
    "obs_data_lists = numpy.full([4, len(log)], 0.0)\n",
    "action_data = numpy.full([len(log)], 0.0)\n",
    "for index, item in enumerate(log):\n",
    "    print(item)\n",
    "    obs, reward, action, info = item\n",
    "    obs_data_lists[0][index] = obs[0]\n",
    "    obs_data_lists[1][index] = obs[1]\n",
    "    obs_data_lists[2][index] = obs[2]\n",
    "    obs_data_lists[3][index] = obs[3]\n",
    "    action_data[index] = action\n",
    "\n",
    "\n",
    "pyplot.plot(scale_steps, obs_data_lists[0], 'b-')\n",
    "pyplot.plot(scale_steps, obs_data_lists[1], 'r-')\n",
    "pyplot.plot(scale_steps, obs_data_lists[2], 'b--')\n",
    "pyplot.plot(scale_steps, obs_data_lists[3], 'r--')\n",
    "pyplot.plot(scale_steps, action_data)\n"
   ]
  },
  {
   "cell_type": "code",
   "execution_count": 77,
   "metadata": {
    "collapsed": false
   },
   "outputs": [
    {
     "data": {
      "text/plain": [
       "0"
      ]
     },
     "execution_count": 77,
     "metadata": {},
     "output_type": "execute_result"
    }
   ],
   "source": [
    "env.action_space.sample()\n",
    "\n"
   ]
  },
  {
   "cell_type": "code",
   "execution_count": 46,
   "metadata": {
    "collapsed": false
   },
   "outputs": [
    {
     "name": "stdout",
     "output_type": "stream",
     "text": [
      "Box(4,)\n",
      "[ -4.80000000e+00  -3.40282347e+38  -4.18879020e-01  -3.40282347e+38]\n",
      "[  4.80000000e+00   3.40282347e+38   4.18879020e-01   3.40282347e+38]\n"
     ]
    }
   ],
   "source": [
    "print(env.observation_space)\n",
    "print(env.observation_space.low)\n",
    "print(env.observation_space.high)"
   ]
  },
  {
   "cell_type": "code",
   "execution_count": 30,
   "metadata": {
    "collapsed": false
   },
   "outputs": [
    {
     "name": "stdout",
     "output_type": "stream",
     "text": [
      "[EnvSpec(PredictActionsCartpole-v0), EnvSpec(Asteroids-ramDeterministic-v0), EnvSpec(Asteroids-ramDeterministic-v3), EnvSpec(Gopher-ramDeterministic-v3), EnvSpec(Gopher-ramDeterministic-v0), EnvSpec(DoubleDunk-ramDeterministic-v3), EnvSpec(DoubleDunk-ramDeterministic-v0), EnvSpec(Tennis-ramNoFrameskip-v3), EnvSpec(RoadRunner-ramDeterministic-v0), EnvSpec(Robotank-ram-v3), EnvSpec(CartPole-v0), EnvSpec(CartPole-v1), EnvSpec(Gopher-ram-v3), EnvSpec(Gopher-ram-v0), EnvSpec(Pooyan-ram-v0), EnvSpec(Pooyan-ram-v3), EnvSpec(SpaceInvaders-ram-v3), EnvSpec(CarRacing-v0), EnvSpec(SpaceInvaders-ram-v0), EnvSpec(YarsRevenge-ramDeterministic-v0), EnvSpec(SpaceInvadersDeterministic-v0), EnvSpec(DoubleDunk-ram-v3), EnvSpec(DoubleDunk-ram-v0), EnvSpec(SpaceInvadersDeterministic-v3), EnvSpec(Centipede-v3), EnvSpec(Centipede-v0), EnvSpec(Pitfall-ramNoFrameskip-v3), EnvSpec(Pitfall-ramNoFrameskip-v0), EnvSpec(Frostbite-ramNoFrameskip-v0), EnvSpec(Phoenix-ram-v3), EnvSpec(AmidarNoFrameskip-v3), EnvSpec(SkiingNoFrameskip-v0), EnvSpec(SkiingNoFrameskip-v3), EnvSpec(HotterColder-v0), EnvSpec(RoadRunner-ramDeterministic-v3), EnvSpec(Phoenix-ram-v0), EnvSpec(Tennis-ramNoFrameskip-v0), EnvSpec(Berzerk-ramNoFrameskip-v3), EnvSpec(Berzerk-ramNoFrameskip-v0), EnvSpec(AirRaidDeterministic-v3), EnvSpec(AirRaidDeterministic-v0), EnvSpec(ChopperCommandDeterministic-v3), EnvSpec(AirRaidNoFrameskip-v0), EnvSpec(AirRaidNoFrameskip-v3), EnvSpec(ChopperCommandDeterministic-v0), EnvSpec(Asteroids-ram-v0), EnvSpec(Asteroids-ram-v3), EnvSpec(KrullDeterministic-v0), EnvSpec(Atlantis-ramDeterministic-v3), EnvSpec(Atlantis-ramDeterministic-v0), EnvSpec(KrullDeterministic-v3), EnvSpec(OffSwitchCartpoleProb-v0), EnvSpec(TimePilot-v3), EnvSpec(Go19x19-v0), EnvSpec(TimePilot-v0), EnvSpec(Solaris-ram-v0), EnvSpec(Solaris-ram-v3), EnvSpec(VentureDeterministic-v3), EnvSpec(FishingDerbyNoFrameskip-v3), EnvSpec(FishingDerbyNoFrameskip-v0), EnvSpec(Robotank-ram-v0), EnvSpec(Qbert-v3), EnvSpec(ReversedAddition-v0), EnvSpec(Qbert-v0), EnvSpec(Pitfall-v0), EnvSpec(Pitfall-v3), EnvSpec(RiverraidNoFrameskip-v0), EnvSpec(RiverraidNoFrameskip-v3), EnvSpec(BipedalWalkerHardcore-v2), EnvSpec(Venture-ram-v3), EnvSpec(Venture-ram-v0), EnvSpec(Tennis-v0), EnvSpec(Tennis-v3), EnvSpec(MontezumaRevenge-ramNoFrameskip-v0), EnvSpec(MontezumaRevenge-ramNoFrameskip-v3), EnvSpec(Go9x9-v0), EnvSpec(MountainCarContinuous-v0), EnvSpec(SemisuperPendulumNoise-v0), EnvSpec(Reacher-v1), EnvSpec(ChopperCommand-ramNoFrameskip-v0), EnvSpec(Taxi-v1), EnvSpec(Pong-v3), EnvSpec(Pong-v0), EnvSpec(UpNDownDeterministic-v0), EnvSpec(UpNDownDeterministic-v3), EnvSpec(Enduro-v0), EnvSpec(Enduro-v3), EnvSpec(Zaxxon-ramDeterministic-v3), EnvSpec(Krull-ramNoFrameskip-v0), EnvSpec(Krull-ramNoFrameskip-v3), EnvSpec(ElevatorAction-ramNoFrameskip-v3), EnvSpec(ElevatorAction-ramNoFrameskip-v0), EnvSpec(Venture-ramNoFrameskip-v3), EnvSpec(QbertNoFrameskip-v3), EnvSpec(Venture-ramNoFrameskip-v0), EnvSpec(StarGunner-ramNoFrameskip-v3), EnvSpec(StarGunner-ramNoFrameskip-v0), EnvSpec(NameThisGame-ram-v3), EnvSpec(YarsRevenge-ramDeterministic-v3), EnvSpec(Breakout-ram-v0), EnvSpec(Breakout-ram-v3), EnvSpec(PrivateEye-ramNoFrameskip-v3), EnvSpec(Bowling-v0), EnvSpec(Bowling-v3), EnvSpec(PrivateEye-ramNoFrameskip-v0), EnvSpec(BattleZoneDeterministic-v3), EnvSpec(BattleZoneDeterministic-v0), EnvSpec(PitfallNoFrameskip-v0), EnvSpec(PitfallNoFrameskip-v3), EnvSpec(AirRaid-ramDeterministic-v0), EnvSpec(AirRaid-ramDeterministic-v3), EnvSpec(CentipedeNoFrameskip-v0), EnvSpec(Skiing-ram-v0), EnvSpec(CentipedeNoFrameskip-v3), EnvSpec(EnduroDeterministic-v3), EnvSpec(VentureNoFrameskip-v0), EnvSpec(SpaceInvaders-ramNoFrameskip-v3), EnvSpec(Freeway-ram-v3), EnvSpec(Skiing-ram-v3), EnvSpec(ConvergenceControl-v0), EnvSpec(Riverraid-ramNoFrameskip-v3), EnvSpec(Riverraid-ramNoFrameskip-v0), EnvSpec(ChopperCommand-v3), EnvSpec(ChopperCommand-v0), EnvSpec(Pooyan-v0), EnvSpec(Pooyan-v3), EnvSpec(BattleZoneNoFrameskip-v0), EnvSpec(PrivateEye-v3), EnvSpec(PrivateEye-v0), EnvSpec(BattleZoneNoFrameskip-v3), EnvSpec(FrozenLake8x8-v0), EnvSpec(Alien-ramNoFrameskip-v0), EnvSpec(Alien-ramNoFrameskip-v3), EnvSpec(WizardOfWor-ramDeterministic-v0), EnvSpec(TutankhamDeterministic-v0), EnvSpec(TutankhamDeterministic-v3), EnvSpec(LunarLanderContinuous-v2), EnvSpec(UpNDown-ramDeterministic-v3), EnvSpec(UpNDown-ramDeterministic-v0), EnvSpec(Phoenix-ramNoFrameskip-v3), EnvSpec(Phoenix-ramNoFrameskip-v0), EnvSpec(Asterix-ram-v3), EnvSpec(Asterix-ram-v0), EnvSpec(Jamesbond-ramNoFrameskip-v3), EnvSpec(Jamesbond-ramNoFrameskip-v0), EnvSpec(JourneyEscape-v0), EnvSpec(JourneyEscape-v3), EnvSpec(BipedalWalker-v2), EnvSpec(CrazyClimberDeterministic-v3), EnvSpec(CrazyClimberDeterministic-v0), EnvSpec(FishingDerby-ramDeterministic-v3), EnvSpec(QbertDeterministic-v0), EnvSpec(SpaceInvaders-ramDeterministic-v3), EnvSpec(QbertDeterministic-v3), EnvSpec(SolarisDeterministic-v0), EnvSpec(SolarisDeterministic-v3), EnvSpec(YarsRevengeDeterministic-v0), EnvSpec(YarsRevengeDeterministic-v3), EnvSpec(SpaceInvaders-ramDeterministic-v0), EnvSpec(TwoRoundDeterministicReward-v0), EnvSpec(Bowling-ramNoFrameskip-v3), EnvSpec(Bowling-ramNoFrameskip-v0), EnvSpec(JourneyEscapeDeterministic-v3), EnvSpec(NameThisGame-ramNoFrameskip-v0), EnvSpec(TwoRoundNondeterministicReward-v0), EnvSpec(AmidarNoFrameskip-v0), EnvSpec(TimePilotNoFrameskip-v0), EnvSpec(MsPacmanDeterministic-v0), EnvSpec(MsPacmanDeterministic-v3), EnvSpec(Pooyan-ramDeterministic-v0), EnvSpec(Frostbite-ramNoFrameskip-v3), EnvSpec(PhoenixDeterministic-v3), EnvSpec(PhoenixDeterministic-v0), EnvSpec(CrazyClimber-ram-v0), EnvSpec(MontezumaRevenge-ram-v0), EnvSpec(MontezumaRevenge-ram-v3), EnvSpec(CrazyClimber-ram-v3), EnvSpec(StarGunner-ramDeterministic-v0), EnvSpec(StarGunner-ramDeterministic-v3), EnvSpec(Centipede-ramNoFrameskip-v3), EnvSpec(Centipede-ramNoFrameskip-v0), EnvSpec(BeamRider-ramDeterministic-v0), EnvSpec(BeamRider-ramDeterministic-v3), EnvSpec(KungFuMaster-v0), EnvSpec(KungFuMaster-v3), EnvSpec(Jamesbond-ramDeterministic-v0), EnvSpec(BreakoutDeterministic-v3), EnvSpec(BreakoutDeterministic-v0), EnvSpec(Jamesbond-ramDeterministic-v3), EnvSpec(IceHockey-v0), EnvSpec(IceHockey-v3), EnvSpec(Venture-ramDeterministic-v0), EnvSpec(Carnival-ram-v0), EnvSpec(Venture-ramDeterministic-v3), EnvSpec(PongDeterministic-v3), EnvSpec(RobotankDeterministic-v0), EnvSpec(RobotankDeterministic-v3), EnvSpec(PongDeterministic-v0), EnvSpec(Pong-ramDeterministic-v0), EnvSpec(Pong-ramDeterministic-v3), EnvSpec(NameThisGame-ramNoFrameskip-v3), EnvSpec(Berzerk-v3), EnvSpec(Berzerk-v0), EnvSpec(SemisuperPendulumDecay-v0), EnvSpec(MontezumaRevenge-v0), EnvSpec(JourneyEscape-ramDeterministic-v3), EnvSpec(JourneyEscape-ramDeterministic-v0), EnvSpec(MontezumaRevenge-v3), EnvSpec(AirRaid-ram-v0), EnvSpec(AirRaid-ram-v3), EnvSpec(Zaxxon-v0), EnvSpec(BeamRiderDeterministic-v3), EnvSpec(YarsRevenge-ramNoFrameskip-v0), EnvSpec(YarsRevenge-ramNoFrameskip-v3), EnvSpec(BeamRiderDeterministic-v0), EnvSpec(RoadRunner-ramNoFrameskip-v0), EnvSpec(TimePilotNoFrameskip-v3), EnvSpec(Phoenix-ramDeterministic-v0), EnvSpec(StarGunner-ram-v0), EnvSpec(Phoenix-ramDeterministic-v3), EnvSpec(Hex9x9-v0), EnvSpec(Skiing-v0), EnvSpec(Skiing-v3), EnvSpec(StarGunner-ram-v3), EnvSpec(Boxing-ramDeterministic-v0), EnvSpec(Boxing-ramDeterministic-v3), EnvSpec(AsteroidsDeterministic-v3), EnvSpec(PrivateEye-ram-v3), EnvSpec(Pooyan-ramDeterministic-v3), EnvSpec(Centipede-ramDeterministic-v0), EnvSpec(Centipede-ramDeterministic-v3), EnvSpec(JourneyEscapeNoFrameskip-v3), EnvSpec(JourneyEscapeNoFrameskip-v0), EnvSpec(BattleZone-ramDeterministic-v0), EnvSpec(BattleZone-ramDeterministic-v3), EnvSpec(NameThisGameNoFrameskip-v0), EnvSpec(NameThisGameNoFrameskip-v3), EnvSpec(Seaquest-ram-v3), EnvSpec(Seaquest-ram-v0), EnvSpec(AsteroidsDeterministic-v0), EnvSpec(ElevatorAction-ram-v3), EnvSpec(ElevatorAction-ram-v0), EnvSpec(ChopperCommand-ramDeterministic-v0), EnvSpec(Zaxxon-ramNoFrameskip-v3), EnvSpec(ChopperCommand-ramDeterministic-v3), EnvSpec(Krull-ramDeterministic-v3), EnvSpec(Krull-ramDeterministic-v0), EnvSpec(BankHeistDeterministic-v0), EnvSpec(BankHeistDeterministic-v3), EnvSpec(VideoPinballDeterministic-v3), EnvSpec(Reverse-v0), EnvSpec(Zaxxon-ramNoFrameskip-v0), EnvSpec(SeaquestDeterministic-v0), EnvSpec(SeaquestDeterministic-v3), EnvSpec(JourneyEscape-ram-v0), EnvSpec(JourneyEscape-ram-v3), EnvSpec(BerzerkDeterministic-v3), EnvSpec(BerzerkDeterministic-v0), EnvSpec(AssaultNoFrameskip-v0), EnvSpec(Enduro-ramDeterministic-v0), EnvSpec(Enduro-ramDeterministic-v3), EnvSpec(AssaultNoFrameskip-v3), EnvSpec(QbertNoFrameskip-v0), EnvSpec(Gopher-ramNoFrameskip-v0), EnvSpec(IceHockey-ramDeterministic-v0), EnvSpec(IceHockey-ramDeterministic-v3), EnvSpec(Gopher-ramNoFrameskip-v3), EnvSpec(PhoenixNoFrameskip-v0), EnvSpec(PhoenixNoFrameskip-v3), EnvSpec(Humanoid-v1), EnvSpec(NameThisGame-ram-v0), EnvSpec(Tutankham-ramNoFrameskip-v0), EnvSpec(Tutankham-ramNoFrameskip-v3), EnvSpec(MsPacman-ramNoFrameskip-v0), EnvSpec(ReversedAddition3-v0), EnvSpec(Assault-ramDeterministic-v0), EnvSpec(Atlantis-ramNoFrameskip-v0), EnvSpec(Atlantis-ramNoFrameskip-v3), EnvSpec(Assault-ramDeterministic-v3), EnvSpec(Skiing-ramNoFrameskip-v0), EnvSpec(BreakoutNoFrameskip-v0), EnvSpec(BreakoutNoFrameskip-v3), EnvSpec(KungFuMaster-ram-v0), EnvSpec(KungFuMaster-ram-v3), EnvSpec(OneRoundNondeterministicReward-v0), EnvSpec(NameThisGame-ramDeterministic-v0), EnvSpec(NameThisGame-ramDeterministic-v3), EnvSpec(RoadRunner-ramNoFrameskip-v3), EnvSpec(Frostbite-ramDeterministic-v3), EnvSpec(Frostbite-ramDeterministic-v0), EnvSpec(BankHeist-ramNoFrameskip-v0), EnvSpec(BankHeist-ramNoFrameskip-v3), EnvSpec(Qbert-ramNoFrameskip-v0), EnvSpec(Ant-v1), EnvSpec(Qbert-ramNoFrameskip-v3), EnvSpec(Skiing-ramNoFrameskip-v3), EnvSpec(YarsRevenge-ram-v0), EnvSpec(YarsRevenge-ram-v3), EnvSpec(FrostbiteNoFrameskip-v3), EnvSpec(FishingDerby-ram-v0), EnvSpec(FishingDerby-ram-v3), EnvSpec(FrostbiteNoFrameskip-v0), EnvSpec(BeamRiderNoFrameskip-v0), EnvSpec(Enduro-ramNoFrameskip-v3), EnvSpec(Enduro-ramNoFrameskip-v0), EnvSpec(BeamRiderNoFrameskip-v3), EnvSpec(CentipedeDeterministic-v3), EnvSpec(Gravitar-ramNoFrameskip-v0), EnvSpec(Gravitar-ramNoFrameskip-v3), EnvSpec(CentipedeDeterministic-v0), EnvSpec(Kangaroo-ram-v3), EnvSpec(Alien-ram-v3), EnvSpec(Kangaroo-ram-v0), EnvSpec(VideoPinball-ramNoFrameskip-v0), EnvSpec(VideoPinball-ramNoFrameskip-v3), EnvSpec(StarGunnerDeterministic-v3), EnvSpec(StarGunnerDeterministic-v0), EnvSpec(PongNoFrameskip-v0), EnvSpec(PongNoFrameskip-v3), EnvSpec(TimePilotDeterministic-v3), EnvSpec(TimePilotDeterministic-v0), EnvSpec(CNNClassifierTraining-v0), EnvSpec(Boxing-ram-v0), EnvSpec(Boxing-ram-v3), EnvSpec(Tennis-ramDeterministic-v0), EnvSpec(StarGunner-v0), EnvSpec(StarGunner-v3), EnvSpec(Tennis-ramDeterministic-v3), EnvSpec(DemonAttackNoFrameskip-v0), EnvSpec(DemonAttackNoFrameskip-v3), EnvSpec(PitfallDeterministic-v3), EnvSpec(Assault-ram-v3), EnvSpec(PooyanDeterministic-v0), EnvSpec(PooyanDeterministic-v3), EnvSpec(Assault-ram-v0), EnvSpec(Amidar-ram-v3), EnvSpec(PitfallDeterministic-v0), EnvSpec(Amidar-ram-v0), EnvSpec(ChopperCommandNoFrameskip-v0), EnvSpec(ChopperCommandNoFrameskip-v3), EnvSpec(Tutankham-ramDeterministic-v0), EnvSpec(VentureDeterministic-v0), EnvSpec(ElevatorActionDeterministic-v3), EnvSpec(Solaris-ramDeterministic-v3), EnvSpec(Solaris-ramDeterministic-v0), EnvSpec(ElevatorActionDeterministic-v0), EnvSpec(Riverraid-ram-v0), EnvSpec(Riverraid-ram-v3), EnvSpec(Solaris-v0), EnvSpec(KungFuMasterNoFrameskip-v3), EnvSpec(BattleZone-v3), EnvSpec(BattleZone-v0), EnvSpec(KungFuMasterNoFrameskip-v0), EnvSpec(MsPacmanNoFrameskip-v3), EnvSpec(MsPacmanNoFrameskip-v0), EnvSpec(VideoPinballNoFrameskip-v3), EnvSpec(Breakout-ramDeterministic-v0), EnvSpec(Breakout-ramDeterministic-v3), EnvSpec(VideoPinballNoFrameskip-v0), EnvSpec(PrivateEye-ramDeterministic-v0), EnvSpec(WizardOfWor-ram-v3), EnvSpec(WizardOfWor-ram-v0), EnvSpec(PrivateEye-ramDeterministic-v3), EnvSpec(Gravitar-v0), EnvSpec(RoadRunner-v3), EnvSpec(RoadRunner-v0), EnvSpec(Gravitar-v3), EnvSpec(RoadRunner-ram-v3), EnvSpec(Jamesbond-ram-v3), EnvSpec(RoadRunner-ram-v0), EnvSpec(MsPacman-ram-v0), EnvSpec(MsPacman-ram-v3), EnvSpec(Riverraid-ramDeterministic-v0), EnvSpec(Riverraid-ramDeterministic-v3), EnvSpec(Jamesbond-ram-v0), EnvSpec(UpNDownNoFrameskip-v3), EnvSpec(VideoPinball-ram-v3), EnvSpec(VideoPinball-ram-v0), EnvSpec(UpNDownNoFrameskip-v0), EnvSpec(OffSwitchCartpole-v0), EnvSpec(WizardOfWorNoFrameskip-v3), EnvSpec(WizardOfWorNoFrameskip-v0), EnvSpec(FreewayNoFrameskip-v3), EnvSpec(FreewayNoFrameskip-v0), EnvSpec(WizardOfWor-ramDeterministic-v3), EnvSpec(Asterix-ramNoFrameskip-v0), EnvSpec(Asterix-ramNoFrameskip-v3), EnvSpec(AlienNoFrameskip-v3), EnvSpec(AlienNoFrameskip-v0), EnvSpec(BankHeist-ramDeterministic-v3), EnvSpec(BankHeist-ramDeterministic-v0), EnvSpec(InvertedDoublePendulum-v1), EnvSpec(Asterix-v3), EnvSpec(WizardOfWor-ramNoFrameskip-v0), EnvSpec(Asterix-v0), EnvSpec(AsteroidsNoFrameskip-v0), EnvSpec(AsteroidsNoFrameskip-v3), EnvSpec(Pong-ramNoFrameskip-v3), EnvSpec(JamesbondDeterministic-v3), EnvSpec(WizardOfWor-ramNoFrameskip-v3), EnvSpec(ZaxxonDeterministic-v3), EnvSpec(ZaxxonDeterministic-v0), EnvSpec(Pong-ramNoFrameskip-v0), EnvSpec(ChopperCommand-ram-v3), EnvSpec(ChopperCommand-ram-v0), EnvSpec(SpaceInvaders-ramNoFrameskip-v0), EnvSpec(SeaquestNoFrameskip-v3), EnvSpec(JamesbondDeterministic-v0), EnvSpec(BowlingDeterministic-v3), EnvSpec(BowlingDeterministic-v0), EnvSpec(SemisuperPendulumRandom-v0), EnvSpec(BankHeist-v0), EnvSpec(BankHeist-v3), EnvSpec(TimePilot-ramDeterministic-v0), EnvSpec(TimePilot-ramDeterministic-v3), EnvSpec(NChain-v0), EnvSpec(FishingDerby-ramDeterministic-v0), EnvSpec(SeaquestNoFrameskip-v0), EnvSpec(StarGunnerNoFrameskip-v0), EnvSpec(Seaquest-v3), EnvSpec(CrazyClimber-ramNoFrameskip-v3), EnvSpec(CrazyClimber-ramNoFrameskip-v0), EnvSpec(Seaquest-v0), EnvSpec(CrazyClimber-v0), EnvSpec(CrazyClimber-v3), EnvSpec(MsPacman-ramDeterministic-v3), EnvSpec(Pitfall-ramDeterministic-v0), EnvSpec(Pitfall-ramDeterministic-v3), EnvSpec(Enduro-ram-v0), EnvSpec(MsPacman-ramDeterministic-v0), EnvSpec(Enduro-ram-v3), EnvSpec(GravitarDeterministic-v0), EnvSpec(GravitarDeterministic-v3), EnvSpec(Breakout-ramNoFrameskip-v3), EnvSpec(Swimmer-v1), EnvSpec(Alien-ram-v0), EnvSpec(Breakout-ramNoFrameskip-v0), EnvSpec(GravitarNoFrameskip-v0), EnvSpec(VideoPinballDeterministic-v0), EnvSpec(AsterixDeterministic-v0), EnvSpec(AsterixDeterministic-v3), EnvSpec(AlienDeterministic-v0), EnvSpec(AlienDeterministic-v3), EnvSpec(RoadRunnerDeterministic-v3), EnvSpec(RoadRunnerDeterministic-v0), EnvSpec(RepeatCopy-v0), EnvSpec(FrostbiteDeterministic-v0), EnvSpec(Bowling-ramDeterministic-v0), EnvSpec(Bowling-ramDeterministic-v3), EnvSpec(Carnival-ramDeterministic-v0), EnvSpec(EnduroNoFrameskip-v0), EnvSpec(EnduroNoFrameskip-v3), EnvSpec(Carnival-ramDeterministic-v3), EnvSpec(FrostbiteDeterministic-v3), EnvSpec(Asteroids-ramNoFrameskip-v3), EnvSpec(Asteroids-ramNoFrameskip-v0), EnvSpec(TennisNoFrameskip-v0), EnvSpec(DemonAttackDeterministic-v3), EnvSpec(Pitfall-ram-v0), EnvSpec(DemonAttackDeterministic-v0), EnvSpec(TennisNoFrameskip-v3), EnvSpec(DemonAttack-ram-v3), EnvSpec(DemonAttack-ram-v0), EnvSpec(UpNDown-v0), EnvSpec(BankHeistNoFrameskip-v3), EnvSpec(BankHeistNoFrameskip-v0), EnvSpec(UpNDown-v3), EnvSpec(Pitfall-ram-v3), EnvSpec(Kangaroo-ramDeterministic-v0), EnvSpec(Kangaroo-ramDeterministic-v3), EnvSpec(RobotankNoFrameskip-v3), EnvSpec(RobotankNoFrameskip-v0), EnvSpec(WizardOfWor-v3), EnvSpec(WizardOfWor-v0), EnvSpec(Hopper-v1), EnvSpec(Asterix-ramDeterministic-v3), EnvSpec(Robotank-v0), EnvSpec(BattleZone-ramNoFrameskip-v0), EnvSpec(PrivateEyeDeterministic-v3), EnvSpec(Pooyan-ramNoFrameskip-v0), EnvSpec(Pooyan-ramNoFrameskip-v3), EnvSpec(PrivateEyeDeterministic-v0), EnvSpec(ElevatorActionNoFrameskip-v0), EnvSpec(ElevatorActionNoFrameskip-v3), EnvSpec(TutankhamNoFrameskip-v0), EnvSpec(Zaxxon-ramDeterministic-v0), EnvSpec(Robotank-v3), EnvSpec(JamesbondNoFrameskip-v0), EnvSpec(JamesbondNoFrameskip-v3), EnvSpec(HumanoidStandup-v1), EnvSpec(KungFuMaster-ramDeterministic-v3), EnvSpec(KungFuMaster-ramDeterministic-v0), EnvSpec(Amidar-v3), EnvSpec(Amidar-v0), EnvSpec(BattleZone-ramNoFrameskip-v3), EnvSpec(BerzerkNoFrameskip-v0), EnvSpec(BerzerkNoFrameskip-v3), EnvSpec(Amidar-ramNoFrameskip-v3), EnvSpec(Amidar-ramNoFrameskip-v0), EnvSpec(Gravitar-ramDeterministic-v3), EnvSpec(Gravitar-ramDeterministic-v0), EnvSpec(Asterix-ramDeterministic-v0), EnvSpec(BattleZone-ram-v3), EnvSpec(BattleZone-ram-v0), EnvSpec(IceHockey-ram-v0), EnvSpec(IceHockey-ram-v3), EnvSpec(ChopperCommand-ramNoFrameskip-v3), EnvSpec(MountainCar-v0), EnvSpec(Qbert-ramDeterministic-v3), EnvSpec(Qbert-ramDeterministic-v0), EnvSpec(BeamRider-ramNoFrameskip-v3), EnvSpec(Carnival-ram-v3), EnvSpec(Carnival-v0), EnvSpec(FrozenLake-v0), EnvSpec(IceHockeyNoFrameskip-v0), EnvSpec(IceHockeyNoFrameskip-v3), EnvSpec(NameThisGameDeterministic-v3), EnvSpec(NameThisGameDeterministic-v0), EnvSpec(BeamRider-ramNoFrameskip-v0), EnvSpec(DoubleDunk-ramNoFrameskip-v0), EnvSpec(Tutankham-ram-v3), EnvSpec(DoubleDunk-ramNoFrameskip-v3), EnvSpec(YarsRevenge-v0), EnvSpec(IceHockey-ramNoFrameskip-v3), EnvSpec(IceHockey-ramNoFrameskip-v0), EnvSpec(YarsRevenge-v3), EnvSpec(MsPacman-v0), EnvSpec(Solaris-ramNoFrameskip-v0), EnvSpec(Solaris-ramNoFrameskip-v3), EnvSpec(MsPacman-v3), EnvSpec(Gopher-v3), EnvSpec(Walker2d-v1), EnvSpec(Gopher-v0), EnvSpec(Zaxxon-ram-v3), EnvSpec(Zaxxon-ram-v0), EnvSpec(DoubleDunkDeterministic-v0), EnvSpec(DoubleDunkDeterministic-v3), EnvSpec(PooyanNoFrameskip-v3), EnvSpec(PooyanNoFrameskip-v0), EnvSpec(Seaquest-ramNoFrameskip-v0), EnvSpec(Seaquest-ramNoFrameskip-v3), EnvSpec(FreewayDeterministic-v0), EnvSpec(FreewayDeterministic-v3), EnvSpec(Blackjack-v0), EnvSpec(TennisDeterministic-v3), EnvSpec(TennisDeterministic-v0), EnvSpec(Atlantis-v0), EnvSpec(Atlantis-v3), EnvSpec(EnduroDeterministic-v0), EnvSpec(GuessingGame-v0), EnvSpec(Copy-v0), EnvSpec(CrazyClimber-ramDeterministic-v0), EnvSpec(CrazyClimber-ramDeterministic-v3), EnvSpec(Phoenix-v3), EnvSpec(Phoenix-v0), EnvSpec(Alien-ramDeterministic-v3), EnvSpec(FishingDerbyDeterministic-v3), EnvSpec(CarnivalDeterministic-v3), EnvSpec(Asteroids-v0), EnvSpec(Asteroids-v3), EnvSpec(CarnivalDeterministic-v0), EnvSpec(Tutankham-ramDeterministic-v3), EnvSpec(Robotank-ramDeterministic-v3), EnvSpec(Robotank-ramDeterministic-v0), EnvSpec(IceHockeyDeterministic-v3), EnvSpec(IceHockeyDeterministic-v0), EnvSpec(Centipede-ram-v3), EnvSpec(FishingDerby-ramNoFrameskip-v0), EnvSpec(FishingDerby-ramNoFrameskip-v3), EnvSpec(Centipede-ram-v0), EnvSpec(Solaris-v3), EnvSpec(Tennis-ram-v0), EnvSpec(Assault-v3), EnvSpec(Assault-v0), EnvSpec(Tennis-ram-v3), EnvSpec(HalfCheetah-v1), EnvSpec(GopherNoFrameskip-v3), EnvSpec(GopherNoFrameskip-v0), EnvSpec(WizardOfWorDeterministic-v0), EnvSpec(WizardOfWorDeterministic-v3), EnvSpec(TimePilot-ram-v3), EnvSpec(DoubleDunk-v3), EnvSpec(DoubleDunk-v0), EnvSpec(Tutankham-v0), EnvSpec(LunarLander-v2), EnvSpec(Tutankham-v3), EnvSpec(BeamRider-v3), EnvSpec(BeamRider-v0), EnvSpec(CarnivalNoFrameskip-v0), EnvSpec(BoxingDeterministic-v3), EnvSpec(BoxingDeterministic-v0), EnvSpec(CarnivalNoFrameskip-v3), EnvSpec(Alien-v0), EnvSpec(Alien-v3), EnvSpec(Berzerk-ram-v3), EnvSpec(Berzerk-ram-v0), EnvSpec(PredictObsCartpole-v0), EnvSpec(AmidarDeterministic-v3), EnvSpec(AmidarDeterministic-v0), EnvSpec(SolarisNoFrameskip-v0), EnvSpec(GravitarNoFrameskip-v3), EnvSpec(AssaultDeterministic-v3), EnvSpec(Gravitar-ram-v0), EnvSpec(Gravitar-ram-v3), EnvSpec(AssaultDeterministic-v0), EnvSpec(Frostbite-v3), EnvSpec(Venture-v3), EnvSpec(Venture-v0), EnvSpec(Frostbite-v0), EnvSpec(Acrobot-v1), EnvSpec(Boxing-v0), EnvSpec(Boxing-v3), EnvSpec(ZaxxonNoFrameskip-v0), EnvSpec(DemonAttack-v3), EnvSpec(DemonAttack-v0), EnvSpec(ZaxxonNoFrameskip-v3), EnvSpec(Freeway-v0), EnvSpec(NameThisGame-v0), EnvSpec(NameThisGame-v3), EnvSpec(Freeway-v3), EnvSpec(KungFuMasterDeterministic-v0), EnvSpec(KungFuMasterDeterministic-v3), EnvSpec(RoadRunnerNoFrameskip-v0), EnvSpec(RoadRunnerNoFrameskip-v3), EnvSpec(Bowling-ram-v0), EnvSpec(Bowling-ram-v3), EnvSpec(Seaquest-ramDeterministic-v3), EnvSpec(Krull-ram-v3), EnvSpec(Krull-ram-v0), EnvSpec(Seaquest-ramDeterministic-v0), EnvSpec(TimePilot-ramNoFrameskip-v3), EnvSpec(TimePilot-ramNoFrameskip-v0), EnvSpec(BowlingNoFrameskip-v0), EnvSpec(BowlingNoFrameskip-v3), EnvSpec(UpNDown-ramNoFrameskip-v0), EnvSpec(UpNDown-ramNoFrameskip-v3), EnvSpec(Assault-ramNoFrameskip-v3), EnvSpec(Assault-ramNoFrameskip-v0), EnvSpec(KungFuMaster-ramNoFrameskip-v0), EnvSpec(KungFuMaster-ramNoFrameskip-v3), EnvSpec(PrivateEye-ram-v0), EnvSpec(BankHeist-ram-v0), EnvSpec(BankHeist-ram-v3), EnvSpec(YarsRevengeNoFrameskip-v3), EnvSpec(YarsRevengeNoFrameskip-v0), EnvSpec(ElevatorAction-v3), EnvSpec(ElevatorAction-v0), EnvSpec(DemonAttack-ramDeterministic-v0), EnvSpec(DemonAttack-ramDeterministic-v3), EnvSpec(Carnival-ramNoFrameskip-v3), EnvSpec(Carnival-ramNoFrameskip-v0), EnvSpec(FishingDerby-v0), EnvSpec(FishingDerby-v3), EnvSpec(MontezumaRevengeDeterministic-v0), EnvSpec(MontezumaRevengeDeterministic-v3), EnvSpec(UpNDown-ram-v3), EnvSpec(DoubleDunkNoFrameskip-v3), EnvSpec(DoubleDunkNoFrameskip-v0), EnvSpec(AsterixNoFrameskip-v3), EnvSpec(AsterixNoFrameskip-v0), EnvSpec(SolarisNoFrameskip-v3), EnvSpec(Amidar-ramDeterministic-v0), EnvSpec(Amidar-ramDeterministic-v3), EnvSpec(Pong-ram-v3), EnvSpec(Pong-ram-v0), EnvSpec(ElevatorAction-ramDeterministic-v0), EnvSpec(JourneyEscapeDeterministic-v0), EnvSpec(Pendulum-v0), EnvSpec(ElevatorAction-ramDeterministic-v3), EnvSpec(Freeway-ramDeterministic-v3), EnvSpec(Freeway-ramDeterministic-v0), EnvSpec(Breakout-v0), EnvSpec(Breakout-v3), EnvSpec(BeamRider-ram-v3), EnvSpec(Zaxxon-v3), EnvSpec(InvertedPendulum-v1), EnvSpec(BeamRider-ram-v0), EnvSpec(VideoPinball-v3), EnvSpec(VideoPinball-v0), EnvSpec(MsPacman-ramNoFrameskip-v3), EnvSpec(PrivateEyeNoFrameskip-v0), EnvSpec(PrivateEyeNoFrameskip-v3), EnvSpec(AtlantisDeterministic-v0), EnvSpec(AtlantisDeterministic-v3), EnvSpec(Berzerk-ramDeterministic-v0), EnvSpec(Berzerk-ramDeterministic-v3), EnvSpec(AirRaid-ramNoFrameskip-v3), EnvSpec(AirRaid-ramNoFrameskip-v0), EnvSpec(Roulette-v0), EnvSpec(Atlantis-ram-v0), EnvSpec(Atlantis-ram-v3), EnvSpec(Freeway-ramNoFrameskip-v0), EnvSpec(Freeway-ramNoFrameskip-v3), EnvSpec(Boxing-ramNoFrameskip-v3), EnvSpec(Boxing-ramNoFrameskip-v0), EnvSpec(Jamesbond-v3), EnvSpec(Jamesbond-v0), EnvSpec(Skiing-ramDeterministic-v0), EnvSpec(SpaceInvaders-v3), EnvSpec(Skiing-ramDeterministic-v3), EnvSpec(CrazyClimberNoFrameskip-v0), EnvSpec(CrazyClimberNoFrameskip-v3), EnvSpec(KangarooNoFrameskip-v0), EnvSpec(AtlantisNoFrameskip-v3), EnvSpec(AtlantisNoFrameskip-v0), EnvSpec(KangarooNoFrameskip-v3), EnvSpec(SpaceInvaders-v0), EnvSpec(SpaceInvadersNoFrameskip-v3), EnvSpec(StarGunnerNoFrameskip-v3), EnvSpec(Kangaroo-ramNoFrameskip-v3), EnvSpec(Kangaroo-ramNoFrameskip-v0), EnvSpec(FishingDerbyDeterministic-v0), EnvSpec(SpaceInvadersNoFrameskip-v0), EnvSpec(DuplicatedInput-v0), EnvSpec(Robotank-ramNoFrameskip-v0), EnvSpec(Robotank-ramNoFrameskip-v3), EnvSpec(Qbert-ram-v3), EnvSpec(DemonAttack-ramNoFrameskip-v3), EnvSpec(DemonAttack-ramNoFrameskip-v0), EnvSpec(Frostbite-ram-v3), EnvSpec(GopherDeterministic-v0), EnvSpec(GopherDeterministic-v3), EnvSpec(Frostbite-ram-v0), EnvSpec(Alien-ramDeterministic-v0), EnvSpec(VideoPinball-ramDeterministic-v3), EnvSpec(OneRoundDeterministicReward-v0), EnvSpec(VideoPinball-ramDeterministic-v0), EnvSpec(Qbert-ram-v0), EnvSpec(Tutankham-ram-v0), EnvSpec(TutankhamNoFrameskip-v3), EnvSpec(SkiingDeterministic-v3), EnvSpec(Freeway-ram-v0), EnvSpec(KangarooDeterministic-v3), EnvSpec(AirRaid-v0), EnvSpec(AirRaid-v3), EnvSpec(KangarooDeterministic-v0), EnvSpec(VentureNoFrameskip-v3), EnvSpec(Krull-v3), EnvSpec(JourneyEscape-ramNoFrameskip-v0), EnvSpec(JourneyEscape-ramNoFrameskip-v3), EnvSpec(Krull-v0), EnvSpec(KrullNoFrameskip-v3), EnvSpec(Riverraid-v0), EnvSpec(Riverraid-v3), EnvSpec(KrullNoFrameskip-v0), EnvSpec(MontezumaRevenge-ramDeterministic-v3), EnvSpec(MontezumaRevenge-ramDeterministic-v0), EnvSpec(RiverraidDeterministic-v3), EnvSpec(RiverraidDeterministic-v0), EnvSpec(Carnival-v3), EnvSpec(TimePilot-ram-v0), EnvSpec(MontezumaRevengeNoFrameskip-v3), EnvSpec(BoxingNoFrameskip-v0), EnvSpec(BoxingNoFrameskip-v3), EnvSpec(MontezumaRevengeNoFrameskip-v0), EnvSpec(SkiingDeterministic-v0), EnvSpec(UpNDown-ram-v0), EnvSpec(Kangaroo-v3), EnvSpec(Kangaroo-v0)]\n"
     ]
    }
   ],
   "source": []
  },
  {
   "cell_type": "code",
   "execution_count": null,
   "metadata": {
    "collapsed": true
   },
   "outputs": [],
   "source": []
  }
 ],
 "metadata": {
  "kernelspec": {
   "display_name": "Python 2",
   "language": "python",
   "name": "python2"
  },
  "language_info": {
   "codemirror_mode": {
    "name": "ipython",
    "version": 2
   },
   "file_extension": ".py",
   "mimetype": "text/x-python",
   "name": "python",
   "nbconvert_exporter": "python",
   "pygments_lexer": "ipython2",
   "version": "2.7.6"
  }
 },
 "nbformat": 4,
 "nbformat_minor": 0
}
