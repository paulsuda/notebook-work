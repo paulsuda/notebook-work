{
 "cells": [
  {
   "cell_type": "markdown",
   "metadata": {},
   "source": [
    "# Mandelbrot Set\n",
    "\n",
    "Where $c$ is a chosen complex value.\n",
    "\n",
    "Where $z$ recursively defines a value to be tested, starting with $z_0 = 0.0$.\n",
    "\n",
    "$$ z_{n+1} = z_n^2 + c $$\n",
    "\n",
    "If $z$ eventually tends toward infinity for a given $c$ then $c$ **is not an element** in the Mandelbrot set.\n",
    "\n",
    "If $z$ is bounded for a given $c$ then $c$ **is an element** in the Mandelbrot set.\n",
    "\n",
    "Let $P^n_c$ be the value of $z$ after $n$ iterations using a chosen value for $c$.\n",
    "\n",
    "Let $s$ be a maximum for $P$ so that $c$ is in the Mandelbrot set if this is true:\n",
    "\n",
    "$$ P^n_c \\leq s $$\n",
    "\n",
    "Normally $s \\leq 2$. If $z$ exceeds 2, we know [it is not bounded](https://en.wikipedia.org/wiki/Mandelbrot_set).\n"
   ]
  },
  {
   "cell_type": "markdown",
   "metadata": {},
   "source": [
    "# In Plain Vanilla Python"
   ]
  },
  {
   "cell_type": "code",
   "execution_count": null,
   "metadata": {
    "collapsed": false
   },
   "outputs": [],
   "source": [
    "def im_mult(a, b):\n",
    "    return (a[0] * b[0] - a[1] * b[1], a[0] * b[1] + a[1] * b[0])\n",
    "\n",
    "def im_add(a, b):\n",
    "    return (a[0] + b[0], a[1] + b[1])\n",
    "\n",
    "def im_square(a):\n",
    "    return im_mult(a, a)\n",
    "\n",
    "def im_radius(a):\n",
    "    return (a[0] ** 2.0 + a[1] ** 2.0) ** 0.5\n",
    "\n",
    "def start_z():\n",
    "    return (0.0, 0.0)\n",
    "\n",
    "def successor_z(z, c):\n",
    "    return im_add(im_square(z), c)\n",
    "\n",
    "def mandelbrot_iterations(s = 2.0, c = (0.0, 0.0), n = 20):\n",
    "    original_n = n\n",
    "    z = start_z()\n",
    "    while n > 0 and im_radius(z) <= s:\n",
    "        z = successor_z(z, c)\n",
    "        n -= 1\n",
    "    return (original_n - n, z)\n",
    "\n",
    "def map_mbrot_set(start_x = -2.0, start_y = -1.0, end_x = 1.0, end_y = 1.0, resolution_x = 300, resolution_y = 200):\n",
    "    mbrot_set = []\n",
    "    max_iterations = 20\n",
    "    step_x = (end_x - start_x) / float(resolution_x)\n",
    "    step_y = (end_y - start_y) / float(resolution_y)\n",
    "    y = start_y\n",
    "    while y < end_y:\n",
    "        x = start_x\n",
    "        row = []\n",
    "        while x < end_x:\n",
    "            c = (x, y)\n",
    "            (n, z) = mandelbrot_iterations(c = c, n = max_iterations)\n",
    "            row.append(n)\n",
    "            x += step_x\n",
    "        mbrot_set.append(row)\n",
    "        y += step_y\n",
    "    return mbrot_set\n",
    "\n"
   ]
  },
  {
   "cell_type": "code",
   "execution_count": null,
   "metadata": {
    "collapsed": false,
    "scrolled": true
   },
   "outputs": [],
   "source": [
    "from matplotlib import pyplot\n",
    "%matplotlib inline\n",
    "\n",
    "mb_set = map_mbrot_set()\n",
    "pyplot.imshow(mb_set, cmap=\"seismic\", aspect=\"auto\")\n",
    "pyplot.colorbar()"
   ]
  },
  {
   "cell_type": "markdown",
   "metadata": {},
   "source": [
    "# Python and Tensorflow"
   ]
  },
  {
   "cell_type": "code",
   "execution_count": null,
   "metadata": {
    "collapsed": false
   },
   "outputs": [],
   "source": [
    "import tensorflow as tf\n",
    "sess = tf.Session()\n",
    "\n",
    "def tf_mbrot_set(x_resolution = 300, y_resolution = 300):\n",
    "    x_range = tf.lin_space(-2.0, 1.0, x_resolution, 'x_range')\n",
    "    y_range = tf.lin_space(-1.0, 1.0, y_resolution, 'y_range')\n",
    "    permutation_real, permutation_cplx = tf.meshgrid(x_range, y_range)\n",
    "    cplx_range = tf.complex(permutation_real, permutation_cplx, 'cplx_range')\n",
    "\n",
    "    start_z = tf.complex(0.0, 0.0)\n",
    "\n",
    "    c = cplx_range\n",
    "    z = start_z\n",
    "    n = 20\n",
    "    s = 2.0\n",
    "\n",
    "    # Doesn't actually execute, just sequences out ops.\n",
    "    while n > 0:\n",
    "        z = z ** 2 + c\n",
    "        n -= 1\n",
    "\n",
    "#     return tf.abs(z) > s\n",
    "\n",
    "    return tf.minimum(tf.abs(z), 2.0)\n"
   ]
  },
  {
   "cell_type": "code",
   "execution_count": null,
   "metadata": {
    "collapsed": false
   },
   "outputs": [],
   "source": [
    "from matplotlib import pyplot\n",
    "%matplotlib inline\n",
    "\n",
    "# mb_set = map_mbrot_set()\n",
    "pyplot.imshow(sess.run(tf_mbrot_set()), cmap=\"seismic\", aspect=\"auto\")\n",
    "pyplot.colorbar()"
   ]
  }
 ],
 "metadata": {
  "kernelspec": {
   "display_name": "Python 2",
   "language": "python",
   "name": "python2"
  },
  "language_info": {
   "codemirror_mode": {
    "name": "ipython",
    "version": 2
   },
   "file_extension": ".py",
   "mimetype": "text/x-python",
   "name": "python",
   "nbconvert_exporter": "python",
   "pygments_lexer": "ipython2",
   "version": "2.7.6"
  }
 },
 "nbformat": 4,
 "nbformat_minor": 0
}
