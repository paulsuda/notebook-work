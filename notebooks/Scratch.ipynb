{
 "cells": [
  {
   "cell_type": "markdown",
   "metadata": {
    "collapsed": true
   },
   "source": [
    "## How to D3..."
   ]
  },
  {
   "cell_type": "code",
   "execution_count": 62,
   "metadata": {
    "collapsed": false
   },
   "outputs": [
    {
     "data": {
      "application/javascript": [
       "require.config({\n",
       "  paths: {\n",
       "      d3: '/files/node_modules/d3'\n",
       "  }\n",
       "});\n",
       "var wrapperId = 'd3wrap';\n",
       "var wrapperElement = $('<div id=\"' + wrapperId + '\"></div>');\n",
       "$(element).append(wrapperElement);\n",
       "\n",
       "require(['d3'], function(d3){\n",
       "  d3.select('#' + wrapperId).selectAll('p')\n",
       "      .data([1, 2, 3]).enter()\n",
       "      .append('p').text(function(d) { return d; })\n",
       "});\n"
      ],
      "text/plain": [
       "<IPython.core.display.Javascript object>"
      ]
     },
     "metadata": {},
     "output_type": "display_data"
    }
   ],
   "source": [
    "%%javascript\n",
    "require.config({\n",
    "  paths: {\n",
    "      d3: '/files/node_modules/d3'\n",
    "  }\n",
    "});\n",
    "var wrapperId = 'd3wrap';\n",
    "var wrapperElement = $('<div id=\"' + wrapperId + '\"></div>');\n",
    "$(element).append(wrapperElement);\n",
    "\n",
    "require(['d3'], function(d3){\n",
    "  d3.select('#' + wrapperId).selectAll('p')\n",
    "      .data([1, 2, 3]).enter()\n",
    "      .append('p').text(function(d) { return d; })\n",
    "});\n",
    "\n"
   ]
  },
  {
   "cell_type": "markdown",
   "metadata": {},
   "source": [
    "## FFT Sandbox:"
   ]
  },
  {
   "cell_type": "code",
   "execution_count": 76,
   "metadata": {
    "collapsed": true
   },
   "outputs": [],
   "source": [
    "import numpy\n",
    "from matplotlib import pyplot\n",
    "%matplotlib inline\n"
   ]
  },
  {
   "cell_type": "code",
   "execution_count": 83,
   "metadata": {
    "collapsed": false
   },
   "outputs": [
    {
     "data": {
      "text/plain": [
       "<Container object of 8 artists>"
      ]
     },
     "execution_count": 83,
     "metadata": {},
     "output_type": "execute_result"
    },
    {
     "data": {
      "image/png": "[encoded data removed]",
      "text/plain": [
       "<matplotlib.figure.Figure at 0x7fdd09c76f90>"
      ]
     },
     "metadata": {},
     "output_type": "display_data"
    }
   ],
   "source": [
    "sample = [1.0, 0.0, 1.0, 0.0, 1.0, 0.0, 1.0, 0.0];\n",
    "output = numpy.fft.ifft(sample)\n",
    "_, plots = pyplot.subplots(1, 2)\n",
    "plots[0].bar(range(0, len(sample)), output.real)\n",
    "plots[1].bar(range(0, len(sample)), output.imag)\n"
   ]
  },
  {
   "cell_type": "code",
   "execution_count": 84,
   "metadata": {
    "collapsed": false
   },
   "outputs": [
    {
     "data": {
      "text/plain": [
       "<Container object of 8 artists>"
      ]
     },
     "execution_count": 84,
     "metadata": {},
     "output_type": "execute_result"
    },
    {
     "data": {
      "image/png": "[encoded data removed]",
      "text/plain": [
       "<matplotlib.figure.Figure at 0x7fdd09b1ba50>"
      ]
     },
     "metadata": {},
     "output_type": "display_data"
    }
   ],
   "source": [
    "sample = [0.0, 1.0, 0.0, 1.0, 0.0, 1.0, 0.0, 1.0];\n",
    "output = numpy.fft.ifft(sample)\n",
    "output.imag\n",
    "output.real\n",
    "_, plots = pyplot.subplots(1, 2)\n",
    "plots[0].bar(range(0, len(sample)), output.real)\n",
    "plots[1].bar(range(0, len(sample)), output.imag)\n"
   ]
  },
  {
   "cell_type": "markdown",
   "metadata": {
    "collapsed": true
   },
   "source": [
    "## Canvas\n"
   ]
  },
  {
   "cell_type": "code",
   "execution_count": 99,
   "metadata": {
    "collapsed": false
   },
   "outputs": [
    {
     "data": {
      "application/javascript": [
       "\n",
       "var canvas, ctx, div, clearButton, scoreButton;\n",
       "var scaleMultiplier = 4;\n",
       "var width = 28;\n",
       "var height = 28;\n",
       "\n",
       "function clearCanvas(){\n",
       "    ctx.fillStyle = '#FFFFEE';\n",
       "    ctx.fillRect(0, 0, width, height);\n",
       "}\n",
       "\n",
       "function putPixel(x, y){\n",
       "    ctx.fillStyle = '#111111';\n",
       "    ctx.fillRect(x, y, 2, 2);\n",
       "}\n",
       "\n",
       "function handleDraw(event){\n",
       "    console.log(event);\n",
       "    if(event.which == 1){\n",
       "        putPixel(event.offsetX, event.offsetY);\n",
       "    }\n",
       "}\n",
       "\n",
       "\n",
       "canvas = $('<canvas width=\"' + width + '\" height=\"' + height +\n",
       "           '\" style=\"transform: scale(' + scaleMultiplier + ',' + scaleMultiplier + '); ' +\n",
       "           'position: relative; left: ' + (width + 20) + 'px; top: ' + (height + 20) + 'px;\">')[0];\n",
       "clearButton = $('<button style=\"position: relative; float: right;\">Clear</button>');\n",
       "scoreButton = $('<button style=\"position: relative; float: right;\">Score</button>');\n",
       "div = $('<div style=\"height: 160px; width: 400px;\">')\n",
       "div.append(canvas);\n",
       "div.append(clearButton);\n",
       "div.append(scoreButton);\n",
       "$(element).append(div);\n",
       "ctx = canvas.getContext(\"2d\");\n",
       "clearCanvas();\n",
       "\n",
       "function scoreIt(){\n",
       "    console.log('score');\n",
       "}\n",
       "\n",
       "$(canvas).click(handleDraw);\n",
       "$(canvas).mousemove(handleDraw);\n",
       "$(clearButton).click(clearCanvas);\n",
       "$(scoreButton).click(scoreIt);"
      ],
      "text/plain": [
       "<IPython.core.display.Javascript object>"
      ]
     },
     "metadata": {},
     "output_type": "display_data"
    }
   ],
   "source": [
    "%%javascript\n",
    "\n",
    "var canvas, ctx, div, clearButton, scoreButton;\n",
    "var scaleMultiplier = 4;\n",
    "var width = 28;\n",
    "var height = 28;\n",
    "\n",
    "function clearCanvas(){\n",
    "    ctx.fillStyle = '#FFFFEE';\n",
    "    ctx.fillRect(0, 0, width, height);\n",
    "}\n",
    "\n",
    "function putPixel(x, y){\n",
    "    ctx.fillStyle = '#111111';\n",
    "    ctx.fillRect(x, y, 2, 2);\n",
    "}\n",
    "\n",
    "function handleDraw(event){\n",
    "    console.log(event);\n",
    "    if(event.which == 1){\n",
    "        putPixel(event.offsetX, event.offsetY);\n",
    "    }\n",
    "}\n",
    "\n",
    "\n",
    "canvas = $('<canvas width=\"' + width + '\" height=\"' + height +\n",
    "           '\" style=\"transform: scale(' + scaleMultiplier + ',' + scaleMultiplier + '); ' +\n",
    "           'position: relative; left: ' + (width + 20) + 'px; top: ' + (height + 20) + 'px;\">')[0];\n",
    "clearButton = $('<button style=\"position: relative; float: right;\">Clear</button>');\n",
    "scoreButton = $('<button style=\"position: relative; float: right;\">Score</button>');\n",
    "div = $('<div style=\"height: 160px; width: 400px;\">')\n",
    "div.append(canvas);\n",
    "div.append(clearButton);\n",
    "div.append(scoreButton);\n",
    "$(element).append(div);\n",
    "ctx = canvas.getContext(\"2d\");\n",
    "clearCanvas();\n",
    "\n",
    "function scoreIt(){\n",
    "    console.log('score');\n",
    "}\n",
    "\n",
    "$(canvas).click(handleDraw);\n",
    "$(canvas).mousemove(handleDraw);\n",
    "$(clearButton).click(clearCanvas);\n",
    "$(scoreButton).click(scoreIt);\n"
   ]
  },
  {
   "cell_type": "code",
   "execution_count": null,
   "metadata": {
    "collapsed": true
   },
   "outputs": [],
   "source": []
  }
 ],
 "metadata": {
  "kernelspec": {
   "display_name": "Python 2",
   "language": "python",
   "name": "python2"
  },
  "language_info": {
   "codemirror_mode": {
    "name": "ipython",
    "version": 2
   },
   "file_extension": ".py",
   "mimetype": "text/x-python",
   "name": "python",
   "nbconvert_exporter": "python",
   "pygments_lexer": "ipython2",
   "version": "2.7.6"
  }
 },
 "nbformat": 4,
 "nbformat_minor": 0
}
