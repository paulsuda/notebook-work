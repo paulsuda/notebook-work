{
 "cells": [
  {
   "cell_type": "code",
   "execution_count": null,
   "metadata": {
    "collapsed": true
   },
   "outputs": [],
   "source": [
    "import ipywidgets\n",
    "import numpy\n",
    "import tensorflow"
   ]
  },
  {
   "cell_type": "code",
   "execution_count": null,
   "metadata": {
    "collapsed": false
   },
   "outputs": [],
   "source": [
    "\n",
    "# x = tensorflow.placeholder(tensorflow.float32, [None, input_count])\n",
    "# w = tensorflow.Variable(tensorflow.zeros([input_count, output_count]))\n",
    "# b = tensorflow.Variable(tensorflow.zeros([output_count]))\n",
    "# y = tensorflow.nn.softmax(tensorflow.matmul(x, w) + b)\n",
    "# y_ = tensorflow.placeholder(tensorflow.float32, [None, output_count])\n",
    "# cross_entropy = tensorflow.reduce_mean(-tensorflow.reduce_sum(y_ * tensorflow.log(y), reduction_indices=[1]))\n",
    "# train_step = tensorflow.train.GradientDescentOptimizer(learning_rate).minimize(cross_entropy)\n",
    "\n",
    "# x = tensorflow.Variable(tensorflow.zeros([10, 5]))\n",
    "\n",
    "x = tensorflow.placeholder(tensorflow.float32, [3], 'x')\n",
    "y = tensorflow.placeholder(tensorflow.float32, [3], 'y')\n",
    "\n",
    "init = tensorflow.initialize_all_variables();\n",
    "sess = tensorflow.Session()\n",
    "sess.run(init)\n",
    "\n",
    "# print \"Training\"\n",
    "# for i in range(0, len(training['label']), batch_size):\n",
    "#     batch_xs, batch_ys = next_train_batch(i, batch_size)\n",
    "#     progress_dot()\n",
    "#     sess.run(train_step, feed_dict={x: batch_xs, y_: batch_ys})\n",
    "    \n"
   ]
  },
  {
   "cell_type": "code",
   "execution_count": null,
   "metadata": {
    "collapsed": false
   },
   "outputs": [],
   "source": [
    "f = -(x + y)\n",
    "sess.run(f, feed_dict={x: [1, 2, 3], y: [4, 5, 6]})"
   ]
  },
  {
   "cell_type": "code",
   "execution_count": null,
   "metadata": {
    "collapsed": true
   },
   "outputs": [],
   "source": []
  }
 ],
 "metadata": {
  "kernelspec": {
   "display_name": "Python 2",
   "language": "python",
   "name": "python2"
  },
  "language_info": {
   "codemirror_mode": {
    "name": "ipython",
    "version": 2
   },
   "file_extension": ".py",
   "mimetype": "text/x-python",
   "name": "python",
   "nbconvert_exporter": "python",
   "pygments_lexer": "ipython2",
   "version": "2.7.6"
  }
 },
 "nbformat": 4,
 "nbformat_minor": 0
}
