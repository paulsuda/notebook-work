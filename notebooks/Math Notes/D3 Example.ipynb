{
 "cells": [
  {
   "cell_type": "markdown",
   "metadata": {
    "collapsed": true
   },
   "source": [
    "## D3 Example"
   ]
  },
  {
   "cell_type": "code",
   "execution_count": 66,
   "metadata": {},
   "outputs": [
    {
     "data": {
      "application/javascript": [
       "\n",
       "require.config({\n",
       "  paths: {\n",
       "      d3: '/files/node_modules/d3/build/d3',\n",
       "  }\n",
       "});\n",
       "\n",
       "var wrapperId = 'd3wrap';\n",
       "var wrapperElement = $('<svg style=\"font-size: 8.0em; background-color: grey;\" width=\"4em\" height=\"2em\"></svg>');\n",
       "wrapperElement.attr('id', wrapperId)\n",
       "var dataList = [1, 2, 3];\n",
       "$(element).append(wrapperElement);\n",
       "\n",
       "require(['d3'], function(d3){\n",
       "  var g = d3.select('#' + wrapperId)\n",
       "    .selectAll('.d')\n",
       "    .data(dataList)\n",
       "    .enter()\n",
       "    .append('svg')\n",
       "    .attr('class', 'd')\n",
       "    .attr('y', '0.5em')\n",
       "    .attr('x', function(d,i){ return (i + 0.5) + 'em'; })\n",
       "    .attr('width', '2.0em')\n",
       "    .attr('height', '2.0em');    \n",
       "  g.append('circle')\n",
       "    .attr('cx', '0.5em')\n",
       "    .attr('cy', '0.5em')\n",
       "    .attr('class', 'd')\n",
       "    .attr('r', '0.5em');\n",
       "  g.append('text')\n",
       "    .attr('x', '0.5em')\n",
       "    .attr('y', '0.6em')\n",
       "    .attr('text-anchor', 'middle')\n",
       "    .attr('alignment-baseline', 'middle')\n",
       "    .attr('fill', 'yellow')\n",
       "    .text(function(d) { return d; });\n",
       "});"
      ],
      "text/plain": [
       "<IPython.core.display.Javascript object>"
      ]
     },
     "metadata": {},
     "output_type": "display_data"
    }
   ],
   "source": [
    "%%javascript\n",
    "\n",
    "require.config({\n",
    "  paths: {\n",
    "      d3: '/files/node_modules/d3/build/d3',\n",
    "  }\n",
    "});\n",
    "\n",
    "var wrapperId = 'd3wrap';\n",
    "var wrapperElement = $('<svg style=\"font-size: 8.0em; background-color: grey;\" width=\"4em\" height=\"2em\"></svg>');\n",
    "wrapperElement.attr('id', wrapperId)\n",
    "var dataList = [1, 2, 3];\n",
    "$(element).append(wrapperElement);\n",
    "\n",
    "require(['d3'], function(d3){\n",
    "  var g = d3.select('#' + wrapperId)\n",
    "    .selectAll('.d')\n",
    "    .data(dataList)\n",
    "    .enter()\n",
    "    .append('svg')\n",
    "    .attr('class', 'd')\n",
    "    .attr('y', '0.5em')\n",
    "    .attr('x', function(d,i){ return (i + 0.5) + 'em'; })\n",
    "    .attr('width', '2.0em')\n",
    "    .attr('height', '2.0em');    \n",
    "  g.append('circle')\n",
    "    .attr('cx', '0.5em')\n",
    "    .attr('cy', '0.5em')\n",
    "    .attr('class', 'd')\n",
    "    .attr('r', '0.5em');\n",
    "  g.append('text')\n",
    "    .attr('x', '0.5em')\n",
    "    .attr('y', '0.6em')\n",
    "    .attr('text-anchor', 'middle')\n",
    "    .attr('alignment-baseline', 'middle')\n",
    "    .attr('fill', 'yellow')\n",
    "    .text(function(d) { return d; });\n",
    "});"
   ]
  },
  {
   "cell_type": "code",
   "execution_count": null,
   "metadata": {
    "collapsed": true
   },
   "outputs": [],
   "source": []
  }
 ],
 "metadata": {
  "kernelspec": {
   "display_name": "Python 2",
   "language": "python",
   "name": "python2"
  },
  "language_info": {
   "codemirror_mode": {
    "name": "ipython",
    "version": 2
   },
   "file_extension": ".py",
   "mimetype": "text/x-python",
   "name": "python",
   "nbconvert_exporter": "python",
   "pygments_lexer": "ipython2",
   "version": "2.7.12"
  }
 },
 "nbformat": 4,
 "nbformat_minor": 1
}
