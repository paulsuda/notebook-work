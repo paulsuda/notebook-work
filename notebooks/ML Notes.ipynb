{
 "cells": [
  {
   "cell_type": "markdown",
   "metadata": {},
   "source": [
    "### Sigmoid Activation Functon\n",
    "\n",
    "$$ \\sigma(z) \\equiv {1 \\over{(1 + e ^ {-z})}} $$"
   ]
  },
  {
   "cell_type": "markdown",
   "metadata": {},
   "source": [
    "### Layer Output\n",
    "\n",
    "Where *x* is layer input, *w* is this layer's weights, *b* is this layer's biases. This is the layer output before activation function applied.\n",
    "\n",
    "$$ \\sum_j w_j x_j + b = w \\cdot x + b $$\n",
    "\n",
    "Where *a* is the vector of the previous layer's activations and *a'* is this layer's activations.\n",
    "\n",
    "$$ a' = \\sigma(w \\cdot a + b) $$"
   ]
  },
  {
   "cell_type": "code",
   "execution_count": null,
   "metadata": {
    "collapsed": true
   },
   "outputs": [],
   "source": []
  }
 ],
 "metadata": {
  "kernelspec": {
   "display_name": "Python 2",
   "language": "python",
   "name": "python2"
  },
  "language_info": {
   "codemirror_mode": {
    "name": "ipython",
    "version": 2
   },
   "file_extension": ".py",
   "mimetype": "text/x-python",
   "name": "python",
   "nbconvert_exporter": "python",
   "pygments_lexer": "ipython2",
   "version": "2.7.6"
  }
 },
 "nbformat": 4,
 "nbformat_minor": 1
}
